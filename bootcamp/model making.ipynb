{
 "cells": [
  {
   "cell_type": "code",
   "execution_count": null,
   "id": "37f57491-3886-4bb8-ab86-f1ed6ba15b71",
   "metadata": {},
   "outputs": [],
   "source": [
    "import pandas as pd\n",
    "from sklearn.model_selection import train_test_split\n",
    "from sklearn.linear_model import LinearRegression  # Example model - replace based on your problem\n",
    "\n",
    "# Evaluation metrics\n",
    "from sklearn.metrics import mean_squared_error, r2_score\n",
    "\n",
    "from google.colab import drive\n",
    "drive.mount('/content/drive')\n",
    "\n",
    "# Dataset path \n",
    "cleaned_data_path = \"/content/drive/MyDrive/project/cleaned_data.csv\"\n",
    "\n",
    "# Splitting proportions\n",
    "test_size = 0.2  # Adjust for desired test set size (e.g., 0.2 for 20% test data)\n",
    "\n",
    "\n",
    "def build_and_evaluate_model(data_path, test_size):\n",
    " \n",
    "  # Load the cleaned data\n",
    "  df = pd.read_csv(data_path)\n",
    "  print(df.columns)\n",
    "  # Identify target column \n",
    "  target_column = \"sku\"  \n",
    "\n",
    "  # Split data into training and testing sets\n",
    "  X = df.drop(target_column, axis=1)  # Features\n",
    "  y = df[target_column]  # Target variable (continuous)\n",
    "  X_train, X_test, y_train, y_test = train_test_split(X, y, test_size=test_size, random_state=42)\n",
    "\n",
    "  # Choose and train a model \n",
    "  model = LinearRegression()\n",
    "  model.fit(X_train, y_train)\n",
    "\n",
    "  # Make predictions on the testing set\n",
    "  y_pred = model.predict(X_test)\n",
    "\n",
    "  # Evaluate model performance\n",
    "  mse = mean_squared_error(y_test, y_pred)\n",
    "  r2 = r2_score(y_test, y_pred)\n",
    "\n",
    "  # Print evaluation metrics\n",
    "  print(f\"Mean Squared Error: {mse:.4f}\")\n",
    "  print(f\"R-squared: {r2:.4f}\")\n",
    "\n",
    "\n",
    "if __name__ == \"__main__\":\n",
    "  build_and_evaluate_model(cleaned_data_path, test_size)"
   ]
  }
 ],
 "metadata": {
  "kernelspec": {
   "display_name": "Python 3 (ipykernel)",
   "language": "python",
   "name": "python3"
  },
  "language_info": {
   "codemirror_mode": {
    "name": "ipython",
    "version": 3
   },
   "file_extension": ".py",
   "mimetype": "text/x-python",
   "name": "python",
   "nbconvert_exporter": "python",
   "pygments_lexer": "ipython3",
   "version": "3.12.4"
  }
 },
 "nbformat": 4,
 "nbformat_minor": 5
}

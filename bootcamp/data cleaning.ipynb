{
 "cells": [
  {
   "cell_type": "code",
   "execution_count": null,
   "id": "5382e71d-04ce-4600-bad5-6485af066594",
   "metadata": {},
   "outputs": [],
   "source": [
    "import pandas as pd\n",
    "import numpy as np\n",
    "from sklearn.impute import SimpleImputer\n",
    "from sklearn.preprocessing import LabelEncoder, StandardScaler\n",
    "from google.colab import drive\n",
    "\n",
    "drive.mount(\"/content/drive\", force_remount=True)\n",
    "\n",
    "data_url = \"/content/drive/MyDrive/project/1. PakEcomDataSet20k.csv\"\n",
    "\n",
    "# Output path \n",
    "output_path = \"/content/drive/MyDrive/project/cleaned_data.csv\"\n",
    "\n",
    "def load_clean_data(data_url, output_path):\n",
    "   \n",
    "    df = pd.read_csv(data_url)\n",
    "\n",
    "    # Handle missing values\n",
    "    # Identify numerical and categorical columns\n",
    "    numerical_columns = df.select_dtypes(include=[np.number]).columns\n",
    "    categorical_columns = df.select_dtypes(include=['object']).columns\n",
    "\n",
    "    # Impute missing values\n",
    "    imputer_numbers = SimpleImputer(strategy=\"mean\")  # Use mean for numerical data\n",
    "    df[numerical_columns] = imputer_numbers.fit_transform(df[numerical_columns])\n",
    "\n",
    "    imputer_category = SimpleImputer(strategy=\"most_frequent\")  # Use most frequent for categorical data\n",
    "    df[categorical_columns] = imputer_category.fit_transform(df[categorical_columns])\n",
    "\n",
    "    # Encode categorical variables (optional)\n",
    "    encoder = LabelEncoder()\n",
    "    for col in categorical_columns:\n",
    "        df[col] = encoder.fit_transform(df[col])\n",
    "\n",
    "    # Normalize or standardize the data (optional)\n",
    "    scaler = StandardScaler()\n",
    "    df[numerical_columns] = scaler.fit_transform(df[numerical_columns]) # Scale only numerical columns\n",
    "\n",
    "    # Save the cleaned data\n",
    "    df.to_csv(output_path, index=False)  # Save the original dataframe, not df_scaled\n",
    "\n",
    "\n",
    "if __name__ == \"__main__\":\n",
    "    load_clean_data(data_url, output_path)\n",
    "    print(f\"Cleaned data saved to: {output_path}\") # Use f-string for formatting"
   ]
  }
 ],
 "metadata": {
  "kernelspec": {
   "display_name": "Python 3 (ipykernel)",
   "language": "python",
   "name": "python3"
  },
  "language_info": {
   "codemirror_mode": {
    "name": "ipython",
    "version": 3
   },
   "file_extension": ".py",
   "mimetype": "text/x-python",
   "name": "python",
   "nbconvert_exporter": "python",
   "pygments_lexer": "ipython3",
   "version": "3.12.4"
  }
 },
 "nbformat": 4,
 "nbformat_minor": 5
}

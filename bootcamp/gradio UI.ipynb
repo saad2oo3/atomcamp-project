{
 "cells": [
  {
   "cell_type": "code",
   "execution_count": null,
   "id": "473a1b86-0d7e-4d54-b056-28cf41d8058b",
   "metadata": {},
   "outputs": [],
   "source": [
    "import sys\n",
    "\n",
    "try:\n",
    "    import gradio\n",
    "except ImportError:\n",
    "    print(\"Installing gradio\")\n",
    "    !pip install gradio\n",
    "    import gradio\n",
    "\n",
    "import requests\n",
    "import gradio as gr\n",
    "def predict(feature1, feature2):\n",
    "  # Your API endpoint URL\n",
    "  api_url = \"https://8cdb-35-223-109-111.ngrok-free.app/\"  # Replace with your actual API endpoint\n",
    "\n",
    "  # Prepare data for the API request\n",
    "  data = {\"feature1\": feature1, \"feature2\": feature2}\n",
    "\n",
    "  # Send the POST request to the API\n",
    "  response = requests.post(api_url, json=data)\n",
    "\n",
    "  # Check for successful response\n",
    "  if response.status_code == 200:\n",
    "    return response.json()[\"prediction\"]\n",
    "  else:\n",
    "    return f\"Error: {response.status_code}\"\n",
    "\n",
    "iface = gr.Interface(fn=predict, inputs=[\"number\", \"number\"], outputs=\"text\")\n",
    "iface.launch()"
   ]
  }
 ],
 "metadata": {
  "kernelspec": {
   "display_name": "Python 3 (ipykernel)",
   "language": "python",
   "name": "python3"
  },
  "language_info": {
   "codemirror_mode": {
    "name": "ipython",
    "version": 3
   },
   "file_extension": ".py",
   "mimetype": "text/x-python",
   "name": "python",
   "nbconvert_exporter": "python",
   "pygments_lexer": "ipython3",
   "version": "3.12.4"
  }
 },
 "nbformat": 4,
 "nbformat_minor": 5
}
